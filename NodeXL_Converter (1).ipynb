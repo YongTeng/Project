{
 "cells": [
  {
   "cell_type": "code",
   "execution_count": 1,
   "id": "430aa3e3",
   "metadata": {},
   "outputs": [],
   "source": [
    "# pip install ntscraper"
   ]
  },
  {
   "cell_type": "code",
   "execution_count": 2,
   "id": "13925fd5",
   "metadata": {},
   "outputs": [],
   "source": [
    "from ntscraper import Nitter"
   ]
  },
  {
   "cell_type": "code",
   "execution_count": 3,
   "id": "c2206d6b",
   "metadata": {},
   "outputs": [
    {
     "name": "stderr",
     "output_type": "stream",
     "text": [
      "Testing instances:  71%|█████████████████████████████████████████████                  | 55/77 [01:33<00:44,  2.01s/it]"
     ]
    },
    {
     "name": "stdout",
     "output_type": "stream",
     "text": [
      "21-May-24 01:11:20 - Certificate did not match expected hostname: nitter.no-logs.com. Certificate: {'subject': ((('commonName', 'no-logs.com'),),), 'issuer': ((('countryName', 'US'),), (('organizationName', \"Let's Encrypt\"),), (('commonName', 'R3'),)), 'version': 3, 'serialNumber': '03D031100DF5685B02FBBE1577956863687F', 'notBefore': 'May 14 21:29:50 2024 GMT', 'notAfter': 'Aug 12 21:29:49 2024 GMT', 'subjectAltName': (('DNS', 'no-logs.com'),), 'OCSP': ('http://r3.o.lencr.org',), 'caIssuers': ('http://r3.i.lencr.org/',)}\n"
     ]
    },
    {
     "name": "stderr",
     "output_type": "stream",
     "text": [
      "Testing instances:  92%|██████████████████████████████████████████████████████████     | 71/77 [02:14<00:16,  2.77s/it]"
     ]
    },
    {
     "name": "stdout",
     "output_type": "stream",
     "text": [
      "21-May-24 01:12:01 - Certificate did not match expected hostname: nt.ggtyler.dev. Certificate: {'subject': ((('commonName', '4g.ggtyler.dev'),),), 'issuer': ((('countryName', 'US'),), (('organizationName', \"Let's Encrypt\"),), (('commonName', 'R3'),)), 'version': 3, 'serialNumber': '03A4459CE6DA31CFF555DB78FF3F35BFEA88', 'notBefore': 'May 14 10:55:44 2024 GMT', 'notAfter': 'Aug 12 10:55:43 2024 GMT', 'subjectAltName': (('DNS', '4g.ggtyler.dev'),), 'OCSP': ('http://r3.o.lencr.org',), 'caIssuers': ('http://r3.i.lencr.org/',)}\n"
     ]
    },
    {
     "name": "stderr",
     "output_type": "stream",
     "text": [
      "Testing instances:  95%|███████████████████████████████████████████████████████████▋   | 73/77 [02:15<00:07,  1.97s/it]"
     ]
    },
    {
     "name": "stdout",
     "output_type": "stream",
     "text": [
      "21-May-24 01:12:02 - Certificate did not match expected hostname: nitter.uni-sonia.com. Certificate: {'subject': ((('commonName', '*.xserver.jp'),),), 'issuer': ((('countryName', 'JP'),), (('organizationName', 'CloudSecure Corporation'),), (('commonName', 'CloudSecure RSA Domain Validation Secure Server CA 2'),)), 'version': 3, 'serialNumber': 'ACA67AD2030638EE2DCE8E845B8299A6', 'notBefore': 'Mar 11 00:00:00 2024 GMT', 'notAfter': 'Apr 11 23:59:59 2025 GMT', 'subjectAltName': (('DNS', '*.xserver.jp'), ('DNS', 'xserver.jp')), 'OCSP': ('http://ocsp.sectigo.com',), 'caIssuers': ('http://crt.sectigo.com/CloudSecureRSADomainValidationSecureServerCA2.crt',)}\n"
     ]
    },
    {
     "name": "stderr",
     "output_type": "stream",
     "text": [
      "Testing instances: 100%|███████████████████████████████████████████████████████████████| 77/77 [02:30<00:00,  1.95s/it]\n"
     ]
    }
   ],
   "source": [
    "scraper = Nitter(log_level = 1, skip_instance_check= False)"
   ]
  },
  {
   "cell_type": "code",
   "execution_count": 4,
   "id": "641a57fe",
   "metadata": {},
   "outputs": [
    {
     "name": "stdout",
     "output_type": "stream",
     "text": [
      "21-May-24 01:12:16 - Note: NumExpr detected 16 cores but \"NUMEXPR_MAX_THREADS\" not set, so enforcing safe limit of 8.\n",
      "21-May-24 01:12:16 - NumExpr defaulting to 8 threads.\n"
     ]
    }
   ],
   "source": [
    "import pandas as pd\n",
    "from ntscraper import Nitter\n",
    "\n",
    "def create_tweets_dataset(username, no_of_tweets):\n",
    "    scraper = Nitter()\n",
    "    tweets = scraper.get_tweets(username, mode=\"user\", number=no_of_tweets)\n",
    "    data = {\n",
    "        'Vertex1': [],\n",
    "        'Vertex2': [],\n",
    "        'Type': [],\n",
    "        'Date': [],\n",
    "        'Text': [],\n",
    "        'Link': [],\n",
    "        'Likes': [],\n",
    "        'Quotes': [],\n",
    "        'Retweets': [],\n",
    "        'Comments': []\n",
    "    }\n",
    "\n",
    "    for tweet in tweets['tweets']:\n",
    "        user = tweet['user']['username']  # The user who posted the tweet\n",
    "\n",
    "        # Define the condition to exclude specific rows, e.g., exclude specific usernames or tweet types\n",
    "        if user in ['@specificuser1', '@specificuser2']:  # Example condition\n",
    "            continue  # Skip this iteration and do not add this tweet to the dataset\n",
    "\n",
    "        # Add the user-tweet relationship\n",
    "        data['Vertex1'].append(user)\n",
    "        data['Vertex2'].append(tweet['link'])  # Use the tweet link as a unique identifier for the tweet\n",
    "        data['Type'].append('Posted')\n",
    "        data['Date'].append(tweet['date'])\n",
    "        data['Text'].append(tweet['text'])\n",
    "        data['Link'].append(tweet['link'])\n",
    "        data['Likes'].append(tweet['stats']['likes'])\n",
    "        data['Quotes'].append(tweet['stats']['quotes'])\n",
    "        data['Retweets'].append(tweet['stats']['retweets'])\n",
    "        data['Comments'].append(tweet['stats']['comments'])\n",
    "\n",
    "        # Check for retweets and mentions\n",
    "        if tweet['is-retweet']:\n",
    "            # Extract the original user from the retweet (if available)\n",
    "            original_user = tweet['retweet']['user']['username'] if 'retweet' in tweet else \"@originaluser\"\n",
    "            data['Vertex1'].append(user)\n",
    "            data['Vertex2'].append(original_user)\n",
    "            data['Type'].append('Retweet')\n",
    "            data['Date'].append(tweet['date'])\n",
    "            data['Text'].append(tweet['text'])\n",
    "            data['Link'].append(tweet['link'])\n",
    "            data['Likes'].append('')\n",
    "            data['Quotes'].append('')\n",
    "            data['Retweets'].append('')\n",
    "            data['Comments'].append('')\n",
    "\n",
    "    # Create DataFrame\n",
    "    df = pd.DataFrame(data)\n",
    "\n",
    "    # Export to CSV\n",
    "    df.to_csv(\"NodeXL_tweets_data2.csv\", index=False)\n"
   ]
  },
  {
   "cell_type": "code",
   "execution_count": 5,
   "id": "dd36c36c",
   "metadata": {},
   "outputs": [
    {
     "name": "stderr",
     "output_type": "stream",
     "text": [
      "Testing instances:  71%|█████████████████████████████████████████████                  | 55/77 [01:33<00:40,  1.86s/it]"
     ]
    },
    {
     "name": "stdout",
     "output_type": "stream",
     "text": [
      "21-May-24 01:13:51 - Certificate did not match expected hostname: nitter.no-logs.com. Certificate: {'subject': ((('commonName', 'no-logs.com'),),), 'issuer': ((('countryName', 'US'),), (('organizationName', \"Let's Encrypt\"),), (('commonName', 'R3'),)), 'version': 3, 'serialNumber': '03D031100DF5685B02FBBE1577956863687F', 'notBefore': 'May 14 21:29:50 2024 GMT', 'notAfter': 'Aug 12 21:29:49 2024 GMT', 'subjectAltName': (('DNS', 'no-logs.com'),), 'OCSP': ('http://r3.o.lencr.org',), 'caIssuers': ('http://r3.i.lencr.org/',)}\n"
     ]
    },
    {
     "name": "stderr",
     "output_type": "stream",
     "text": [
      "Testing instances:  92%|██████████████████████████████████████████████████████████     | 71/77 [02:13<00:19,  3.25s/it]"
     ]
    },
    {
     "name": "stdout",
     "output_type": "stream",
     "text": [
      "21-May-24 01:14:32 - Certificate did not match expected hostname: nt.ggtyler.dev. Certificate: {'subject': ((('commonName', '4g.ggtyler.dev'),),), 'issuer': ((('countryName', 'US'),), (('organizationName', \"Let's Encrypt\"),), (('commonName', 'R3'),)), 'version': 3, 'serialNumber': '03A4459CE6DA31CFF555DB78FF3F35BFEA88', 'notBefore': 'May 14 10:55:44 2024 GMT', 'notAfter': 'Aug 12 10:55:43 2024 GMT', 'subjectAltName': (('DNS', '4g.ggtyler.dev'),), 'OCSP': ('http://r3.o.lencr.org',), 'caIssuers': ('http://r3.i.lencr.org/',)}\n"
     ]
    },
    {
     "name": "stderr",
     "output_type": "stream",
     "text": [
      "Testing instances:  94%|██████████████████████████████████████████████████████████▉    | 72/77 [02:14<00:13,  2.74s/it]"
     ]
    },
    {
     "name": "stdout",
     "output_type": "stream",
     "text": [
      "21-May-24 01:14:32 - Certificate did not match expected hostname: nitter.uni-sonia.com. Certificate: {'subject': ((('commonName', '*.xserver.jp'),),), 'issuer': ((('countryName', 'JP'),), (('organizationName', 'CloudSecure Corporation'),), (('commonName', 'CloudSecure RSA Domain Validation Secure Server CA 2'),)), 'version': 3, 'serialNumber': 'ACA67AD2030638EE2DCE8E845B8299A6', 'notBefore': 'Mar 11 00:00:00 2024 GMT', 'notAfter': 'Apr 11 23:59:59 2025 GMT', 'subjectAltName': (('DNS', '*.xserver.jp'), ('DNS', 'xserver.jp')), 'OCSP': ('http://ocsp.sectigo.com',), 'caIssuers': ('http://crt.sectigo.com/CloudSecureRSADomainValidationSecureServerCA2.crt',)}\n"
     ]
    },
    {
     "name": "stderr",
     "output_type": "stream",
     "text": [
      "Testing instances: 100%|███████████████████████████████████████████████████████████████| 77/77 [02:28<00:00,  1.93s/it]"
     ]
    },
    {
     "name": "stdout",
     "output_type": "stream",
     "text": [
      "21-May-24 01:14:46 - No instance specified, using random instance https://nitter.esmailelbob.xyz\n"
     ]
    },
    {
     "name": "stderr",
     "output_type": "stream",
     "text": [
      "\n"
     ]
    },
    {
     "name": "stdout",
     "output_type": "stream",
     "text": [
      "21-May-24 01:14:54 - Current stats for Ubisoft: 21 tweets, 0 threads...\n",
      "21-May-24 01:14:59 - Current stats for Ubisoft: 41 tweets, 0 threads...\n",
      "21-May-24 01:15:03 - Current stats for Ubisoft: 60 tweets, 0 threads...\n",
      "21-May-24 01:15:08 - Current stats for Ubisoft: 79 tweets, 0 threads...\n",
      "21-May-24 01:15:13 - Current stats for Ubisoft: 99 tweets, 0 threads...\n",
      "21-May-24 01:15:17 - Current stats for Ubisoft: 119 tweets, 0 threads...\n",
      "21-May-24 01:15:21 - Current stats for Ubisoft: 139 tweets, 0 threads...\n",
      "21-May-24 01:15:25 - Current stats for Ubisoft: 159 tweets, 0 threads...\n",
      "21-May-24 01:15:30 - Current stats for Ubisoft: 179 tweets, 0 threads...\n",
      "21-May-24 01:15:34 - Current stats for Ubisoft: 199 tweets, 0 threads...\n",
      "21-May-24 01:15:39 - Current stats for Ubisoft: 219 tweets, 0 threads...\n",
      "21-May-24 01:15:44 - Current stats for Ubisoft: 239 tweets, 0 threads...\n",
      "21-May-24 01:15:48 - Current stats for Ubisoft: 259 tweets, 0 threads...\n",
      "21-May-24 01:15:52 - Current stats for Ubisoft: 279 tweets, 0 threads...\n",
      "21-May-24 01:15:57 - Current stats for Ubisoft: 298 tweets, 0 threads...\n",
      "21-May-24 01:16:02 - Current stats for Ubisoft: 318 tweets, 0 threads...\n",
      "21-May-24 01:16:07 - Current stats for Ubisoft: 338 tweets, 0 threads...\n",
      "21-May-24 01:16:11 - Current stats for Ubisoft: 358 tweets, 0 threads...\n",
      "21-May-24 01:16:18 - Current stats for Ubisoft: 378 tweets, 0 threads...\n",
      "21-May-24 01:16:22 - Current stats for Ubisoft: 398 tweets, 0 threads...\n",
      "21-May-24 01:16:26 - Current stats for Ubisoft: 417 tweets, 0 threads...\n",
      "21-May-24 01:16:30 - Current stats for Ubisoft: 437 tweets, 0 threads...\n",
      "21-May-24 01:16:35 - Current stats for Ubisoft: 457 tweets, 0 threads...\n",
      "21-May-24 01:16:40 - Current stats for Ubisoft: 477 tweets, 0 threads...\n",
      "21-May-24 01:16:44 - Current stats for Ubisoft: 497 tweets, 0 threads...\n",
      "21-May-24 01:16:49 - Current stats for Ubisoft: 510 tweets, 0 threads...\n",
      "21-May-24 01:16:53 - Current stats for Ubisoft: 529 tweets, 0 threads...\n",
      "21-May-24 01:16:58 - Current stats for Ubisoft: 549 tweets, 0 threads...\n",
      "21-May-24 01:17:02 - Current stats for Ubisoft: 569 tweets, 0 threads...\n",
      "21-May-24 01:17:07 - Current stats for Ubisoft: 589 tweets, 0 threads...\n",
      "21-May-24 01:17:10 - Current stats for Ubisoft: 609 tweets, 0 threads...\n",
      "21-May-24 01:17:13 - Fetching error: Instance has been rate limited.Use another instance or try again later.\n"
     ]
    }
   ],
   "source": [
    "create_tweets_dataset(\"Ubisoft\",1000)"
   ]
  },
  {
   "cell_type": "code",
   "execution_count": null,
   "id": "65b6fa12",
   "metadata": {},
   "outputs": [],
   "source": []
  },
  {
   "cell_type": "code",
   "execution_count": null,
   "id": "1911171b",
   "metadata": {},
   "outputs": [],
   "source": []
  }
 ],
 "metadata": {
  "kernelspec": {
   "display_name": "Python 3 (ipykernel)",
   "language": "python",
   "name": "python3"
  },
  "language_info": {
   "codemirror_mode": {
    "name": "ipython",
    "version": 3
   },
   "file_extension": ".py",
   "mimetype": "text/x-python",
   "name": "python",
   "nbconvert_exporter": "python",
   "pygments_lexer": "ipython3",
   "version": "3.11.6"
  }
 },
 "nbformat": 4,
 "nbformat_minor": 5
}
